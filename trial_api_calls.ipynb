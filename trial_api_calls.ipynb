{
 "cells": [
  {
   "cell_type": "code",
   "execution_count": 41,
   "metadata": {},
   "outputs": [],
   "source": [
    "import json\n",
    "import requests\n",
    "import pandas as pd\n",
    "import datetime\n",
    "import pytz"
   ]
  },
  {
   "cell_type": "code",
   "execution_count": 57,
   "metadata": {},
   "outputs": [
    {
     "ename": "KeyError",
     "evalue": "'result'",
     "output_type": "error",
     "traceback": [
      "\u001b[1;31m---------------------------------------------------------------------------\u001b[0m",
      "\u001b[1;31mKeyError\u001b[0m                                  Traceback (most recent call last)",
      "\u001b[1;32mc:\\Users\\nickm\\TutorialProject\\trial_api_calls.ipynb Cell 2\u001b[0m line \u001b[0;36m1\n\u001b[0;32m     <a href='vscode-notebook-cell:/c%3A/Users/nickm/TutorialProject/trial_api_calls.ipynb#W1sZmlsZQ%3D%3D?line=16'>17</a>\u001b[0m request \u001b[39m=\u001b[39m requests\u001b[39m.\u001b[39mget(url\u001b[39m=\u001b[39m url, headers\u001b[39m=\u001b[39mheaders)\n\u001b[0;32m     <a href='vscode-notebook-cell:/c%3A/Users/nickm/TutorialProject/trial_api_calls.ipynb#W1sZmlsZQ%3D%3D?line=17'>18</a>\u001b[0m data \u001b[39m=\u001b[39m request\u001b[39m.\u001b[39mjson()\n\u001b[1;32m---> <a href='vscode-notebook-cell:/c%3A/Users/nickm/TutorialProject/trial_api_calls.ipynb#W1sZmlsZQ%3D%3D?line=18'>19</a>\u001b[0m df \u001b[39m=\u001b[39m pd\u001b[39m.\u001b[39mjson_normalize(data[\u001b[39m'\u001b[39;49m\u001b[39mresult\u001b[39;49m\u001b[39m'\u001b[39;49m])\n\u001b[0;32m     <a href='vscode-notebook-cell:/c%3A/Users/nickm/TutorialProject/trial_api_calls.ipynb#W1sZmlsZQ%3D%3D?line=19'>20</a>\u001b[0m df \u001b[39m=\u001b[39m df\u001b[39m.\u001b[39mdrop(\u001b[39m'\u001b[39m\u001b[39msun_position.azimuth\u001b[39m\u001b[39m'\u001b[39m, axis \u001b[39m=\u001b[39m \u001b[39m1\u001b[39m)\n\u001b[0;32m     <a href='vscode-notebook-cell:/c%3A/Users/nickm/TutorialProject/trial_api_calls.ipynb#W1sZmlsZQ%3D%3D?line=20'>21</a>\u001b[0m df \u001b[39m=\u001b[39m df\u001b[39m.\u001b[39mdrop(\u001b[39m'\u001b[39m\u001b[39msun_position.altitude\u001b[39m\u001b[39m'\u001b[39m, axis \u001b[39m=\u001b[39m \u001b[39m1\u001b[39m)\n",
      "\u001b[1;31mKeyError\u001b[0m: 'result'"
     ]
    }
   ],
   "source": [
    "# From openuv \n",
    "api_key = \"openuv-7orcjfrlo62ivj9-io\"\n",
    "\n",
    "# headers for api call\n",
    "headers = {\n",
    "    \"x-access-token\": api_key,\n",
    "    \"Content-Type\": \"application/json\"\n",
    "}\n",
    "\n",
    "lat = 34.11\n",
    "lng = -117.70\n",
    "alt = 100\n",
    "# Create url with api key above\n",
    "\n",
    "url = \"https://api.openuv.io/api/v1/forecast?lat={}&lng={}&alt={}&dt=2023-10-26T00:00:00-05:00\".format(lat,lng,alt)\n",
    "\n",
    "request = requests.get(url= url, headers=headers)\n",
    "data = request.json()\n",
    "df = pd.json_normalize(data['result'])\n",
    "df = df.drop('sun_position.azimuth', axis = 1)\n",
    "df = df.drop('sun_position.altitude', axis = 1)\n",
    "df['uv_time'] = pd.to_datetime(df['uv_time'], format='ISO8601')\n",
    "df['Time'] = pd.to_datetime(df['uv_time'])\n",
    "df['Time'].dt.tz_convert(pytz.utc)\n",
    "df['Time'].dt.tz_convert(pytz.timezone('US/Pacific')).head()\n",
    "df = df.drop('uv_time', axis = 1)\n",
    "df['Time'] = df['Time'].dt.strftime('%H:%M')\n",
    "print(df)"
   ]
  }
 ],
 "metadata": {
  "kernelspec": {
   "display_name": "Python 3",
   "language": "python",
   "name": "python3"
  },
  "language_info": {
   "codemirror_mode": {
    "name": "ipython",
    "version": 3
   },
   "file_extension": ".py",
   "mimetype": "text/x-python",
   "name": "python",
   "nbconvert_exporter": "python",
   "pygments_lexer": "ipython3",
   "version": "3.11.6"
  }
 },
 "nbformat": 4,
 "nbformat_minor": 2
}

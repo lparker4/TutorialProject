{
 "cells": [
  {
   "cell_type": "code",
   "execution_count": 9,
   "metadata": {},
   "outputs": [],
   "source": [
    "# import json\n",
    "import requests\n",
    "from datetime import datetime, timedelta\n"
   ]
  },
  {
   "cell_type": "code",
   "execution_count": 14,
   "metadata": {},
   "outputs": [
    {
     "name": "stdout",
     "output_type": "stream",
     "text": [
      "2023-11-01 14:00:12.522858-07:00\n",
      "['14', '15', '16', '17', '18', '19', '20', '21', '22', '23', '00']\n",
      "[0, 0.2242, 0.8765, 1.8651, 2.9251, 3.608, 3.4347, 2.762, 1.6103, 0.7134, 0.1529]\n"
     ]
    }
   ],
   "source": [
    "# From openuv \n",
    "api_key = \"openuv-4olrlo0dow96-io\"\n",
    "\n",
    "# headers for api call\n",
    "headers = {\n",
    "    \"x-access-token\": api_key,\n",
    "    \"Content-Type\": \"application/json\"\n",
    "}\n",
    "# Set necessary variables\n",
    "lat = 34.11\n",
    "lng = -117.70\n",
    "alt = 100\n",
    "\n",
    "# Determine time zone\n",
    "from zoneinfo import ZoneInfo\n",
    "utc = ZoneInfo('UTC')\n",
    "localtz = ZoneInfo('America/Los_Angeles')\n",
    "database_time = datetime.utcnow()\n",
    "\n",
    "utctime = database_time.replace(tzinfo=utc)\n",
    "localtime = utctime.astimezone(localtz)\n",
    "print(localtime)\n",
    "\n",
    "# Create url with api key above\n",
    "\n",
    "url = \"https://api.openuv.io/api/v1/forecast?lat={}&lng={}&alt={}&dt=\".format(lat,lng,alt)\n",
    "\n",
    "request = requests.get(url= url, headers=headers)\n",
    "\n",
    "# Part II: Store data in json file\n",
    "data = request.json()\n",
    "\n",
    "\n",
    "# Create lists for time and uv data to be stored in\n",
    "timestamps = []\n",
    "uv_data = []\n",
    "\n",
    "# Loop through results to add data to lists\n",
    "for element in data['result']:\n",
    "    # format_datetime = datetime.strptime(element['uv_time'], '%Y-%m-%dT%H:%M:%S.%f%z')\n",
    "    # format_time = datetime.strftime(format_datetime, \"%H:%M\")\n",
    "    # timestamps.append(format_time)\n",
    "    \n",
    "    timestamps.append(localtime.strftime(\"%H\"))\n",
    "    localtime += timedelta(hours=1)\n",
    "    uv_data.append(element['uv'])\n",
    "\n",
    "print(timestamps)\n",
    "print(uv_data)\n",
    "\n",
    "\n"
   ]
  }
 ],
 "metadata": {
  "kernelspec": {
   "display_name": "Python 3",
   "language": "python",
   "name": "python3"
  },
  "language_info": {
   "codemirror_mode": {
    "name": "ipython",
    "version": 3
   },
   "file_extension": ".py",
   "mimetype": "text/x-python",
   "name": "python",
   "nbconvert_exporter": "python",
   "pygments_lexer": "ipython3",
   "version": "3.10.11"
  }
 },
 "nbformat": 4,
 "nbformat_minor": 2
}

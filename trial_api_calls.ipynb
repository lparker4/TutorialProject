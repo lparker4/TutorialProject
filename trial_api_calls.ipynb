{
 "cells": [
  {
   "cell_type": "code",
   "execution_count": 83,
   "metadata": {},
   "outputs": [],
   "source": [
    "import json\n",
    "import requests\n",
    "import pandas as pd\n",
    "import datetime\n",
    "from datetime import datetime\n",
    "import pytz"
   ]
  },
  {
   "cell_type": "code",
   "execution_count": 84,
   "metadata": {},
   "outputs": [
    {
     "name": "stdout",
     "output_type": "stream",
     "text": [
      "        uv                          uv_time   Time\n",
      "0   0.0000 2023-10-30 14:09:40.842000+00:00  14:09\n",
      "1   0.2240 2023-10-30 15:09:40.842000+00:00  15:09\n",
      "2   0.8757 2023-10-30 16:09:40.842000+00:00  16:09\n",
      "3   2.0059 2023-10-30 17:09:40.842000+00:00  17:09\n",
      "4   3.0853 2023-10-30 18:09:40.842000+00:00  18:09\n",
      "5   3.6046 2023-10-30 19:09:40.842000+00:00  19:09\n",
      "6   3.6046 2023-10-30 20:09:40.842000+00:00  20:09\n",
      "7   2.9224 2023-10-30 21:09:40.842000+00:00  21:09\n",
      "8   1.7310 2023-10-30 22:09:40.842000+00:00  22:09\n",
      "9   0.7942 2023-10-30 23:09:40.842000+00:00  23:09\n",
      "10  0.1833 2023-10-31 00:09:40.842000+00:00  00:09\n"
     ]
    }
   ],
   "source": [
    "# From openuv \n",
    "api_key = \"openuv-kdbrloda6ad6-io\"\n",
    "\n",
    "# headers for api call\n",
    "headers = {\n",
    "    \"x-access-token\": api_key,\n",
    "    \"Content-Type\": \"application/json\"\n",
    "}\n",
    "\n",
    "lat = 34.11\n",
    "lng = -117.70\n",
    "alt = 100\n",
    "dt = datetime.now()\n",
    "# Create url with api key above\n",
    "\n",
    "url = \"https://api.openuv.io/api/v1/forecast?lat={}&lng={}&alt={}&dt={}\".format(lat,lng,alt,dt)\n",
    "\n",
    "request = requests.get(url= url, headers=headers)\n",
    "data = request.json()\n",
    "df = pd.json_normalize(data['result'])\n",
    "df = df.drop('sun_position.azimuth', axis = 1)\n",
    "df = df.drop('sun_position.altitude', axis = 1)\n",
    "df['uv_time'] = pd.to_datetime(df['uv_time'], format='ISO8601')\n",
    "df['Time'] = pd.to_datetime(df['uv_time'])\n",
    "dti = pd.DatetimeIndex(data=df['Time'],freq='infer')\n",
    "dti.tz_convert('US/Pacific')\n",
    "df['uv_time'] = dti\n",
    "df['uv_time'].dt.tz_convert('utc')\n",
    "df['uv_time'].dt.tz_convert('US/Pacific')\n",
    "df['Time'] = df['Time'].dt.strftime('%H:%M')\n",
    "print(df)"
   ]
  }
 ],
 "metadata": {
  "kernelspec": {
   "display_name": "Python 3",
   "language": "python",
   "name": "python3"
  },
  "language_info": {
   "codemirror_mode": {
    "name": "ipython",
    "version": 3
   },
   "file_extension": ".py",
   "mimetype": "text/x-python",
   "name": "python",
   "nbconvert_exporter": "python",
   "pygments_lexer": "ipython3",
   "version": "3.11.6"
  }
 },
 "nbformat": 4,
 "nbformat_minor": 2
}

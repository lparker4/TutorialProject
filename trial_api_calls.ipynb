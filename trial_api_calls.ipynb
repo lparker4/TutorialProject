{
 "cells": [
  {
   "cell_type": "code",
   "execution_count": 1,
   "metadata": {},
   "outputs": [],
   "source": [
    "# import json\n",
    "import requests\n"
   ]
  },
  {
   "cell_type": "code",
   "execution_count": 10,
   "metadata": {},
   "outputs": [
    {
     "name": "stdout",
     "output_type": "stream",
     "text": [
      "{'result': [{'uv': 0, 'uv_time': '2023-10-21T14:01:48.630Z', 'sun_position': {'azimuth': -1.3548935345594828, 'altitude': -0.01138153639809885}}, {'uv': 0.2534, 'uv_time': '2023-10-21T15:01:48.630Z', 'sun_position': {'azimuth': -1.2014722124288222, 'altitude': 0.19591544915563813}}, {'uv': 0.963, 'uv_time': '2023-10-21T16:01:48.630Z', 'sun_position': {'azimuth': -1.024869667571596, 'altitude': 0.3902166629877131}}, {'uv': 2.1288, 'uv_time': '2023-10-21T17:01:48.630Z', 'sun_position': {'azimuth': -0.8090283292036933, 'altitude': 0.5622895019438219}}, {'uv': 3.2439, 'uv_time': '2023-10-21T18:01:48.630Z', 'sun_position': {'azimuth': -0.5374270994858183, 'altitude': 0.6976974173596426}}, {'uv': 4.1461, 'uv_time': '2023-10-21T19:01:48.630Z', 'sun_position': {'azimuth': -0.20569873875551672, 'altitude': 0.7766895521273018}}, {'uv': 4.1461, 'uv_time': '2023-10-21T20:01:48.630Z', 'sun_position': {'azimuth': 0.1568394623043494, 'altitude': 0.7817697861868521}}, {'uv': 3.4162, 'uv_time': '2023-10-21T21:01:48.630Z', 'sun_position': {'azimuth': 0.49506869613559684, 'altitude': 0.7116012360713215}}, {'uv': 2.2809, 'uv_time': '2023-10-21T22:01:48.630Z', 'sun_position': {'azimuth': 0.7746610626163768, 'altitude': 0.5823159526101003}}, {'uv': 1.0543, 'uv_time': '2023-10-21T23:01:48.630Z', 'sun_position': {'azimuth': 0.9967284733322384, 'altitude': 0.41402294213475666}}, {'uv': 0.294, 'uv_time': '2023-10-22T00:01:48.630Z', 'sun_position': {'azimuth': 1.1772239891881333, 'altitude': 0.22193195670709007}}, {'uv': 0.0203, 'uv_time': '2023-10-22T01:01:48.630Z', 'sun_position': {'azimuth': 1.3324905709678188, 'altitude': 0.01582852009429072}}]}\n"
     ]
    }
   ],
   "source": [
    "# From openuv \n",
    "api_key = \"openuv-4olrlo0dow96-io\"\n",
    "\n",
    "# headers for api call\n",
    "headers = {\n",
    "    \"x-access-token\": api_key,\n",
    "    \"Content-Type\": \"application/json\"\n",
    "}\n",
    "# Create url with api key above\n",
    "\n",
    "url = \"https://api.openuv.io/api/v1/forecast?lat=34.11&lng=-117.70&alt=100&dt=\"\n",
    "\n",
    "request = requests.get(url= url, headers=headers)\n",
    "data = request.json()\n",
    "\n",
    "print(data)"
   ]
  }
 ],
 "metadata": {
  "kernelspec": {
   "display_name": "Python 3",
   "language": "python",
   "name": "python3"
  },
  "language_info": {
   "codemirror_mode": {
    "name": "ipython",
    "version": 3
   },
   "file_extension": ".py",
   "mimetype": "text/x-python",
   "name": "python",
   "nbconvert_exporter": "python",
   "pygments_lexer": "ipython3",
   "version": "3.10.11"
  }
 },
 "nbformat": 4,
 "nbformat_minor": 2
}
